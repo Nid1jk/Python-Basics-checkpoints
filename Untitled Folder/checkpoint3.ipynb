{
 "cells": [
  {
   "cell_type": "code",
   "execution_count": 4,
   "id": "82d0f7cf",
   "metadata": {},
   "outputs": [
    {
     "name": "stdout",
     "output_type": "stream",
     "text": [
      "give a random number6\n",
      "the number is even\n",
      "end\n"
     ]
    }
   ],
   "source": [
    "x=int(input(\"give a random number\"))\n",
    "if (x%2)==0:\n",
    "    print('the number is even')\n",
    "else:\n",
    "    print('the number is odd')\n",
    "print('end')"
   ]
  }
 ],
 "metadata": {
  "kernelspec": {
   "display_name": "Python 3 (ipykernel)",
   "language": "python",
   "name": "python3"
  },
  "language_info": {
   "codemirror_mode": {
    "name": "ipython",
    "version": 3
   },
   "file_extension": ".py",
   "mimetype": "text/x-python",
   "name": "python",
   "nbconvert_exporter": "python",
   "pygments_lexer": "ipython3",
   "version": "3.9.6"
  }
 },
 "nbformat": 4,
 "nbformat_minor": 5
}
