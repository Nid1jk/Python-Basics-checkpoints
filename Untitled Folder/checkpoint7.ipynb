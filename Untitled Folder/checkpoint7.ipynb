{
 "cells": [
  {
   "cell_type": "code",
   "execution_count": 8,
   "id": "0b226323",
   "metadata": {
    "scrolled": true
   },
   "outputs": [
    {
     "name": "stdout",
     "output_type": "stream",
     "text": [
      "320\n",
      "you get a 30% discount, so the final price is 284.0\n",
      "end\n"
     ]
    }
   ],
   "source": [
    "x=int(input())\n",
    "if x>=500:\n",
    "    print(\"you get a 50% discount, so the final price is\",x/2)\n",
    "elif x<=200:\n",
    "    b=x/10\n",
    "    x=x-b\n",
    "    print('you get a 10% discount, so the final price is',x)\n",
    "else:\n",
    "    x=x-b*3\n",
    "    print('you get a 30% discount, so the final price is',x)\n",
    "print('end')"
   ]
  },
  {
   "cell_type": "code",
   "execution_count": null,
   "id": "8455cbc9",
   "metadata": {},
   "outputs": [],
   "source": []
  },
  {
   "cell_type": "code",
   "execution_count": null,
   "id": "818e60f6",
   "metadata": {},
   "outputs": [],
   "source": []
  }
 ],
 "metadata": {
  "kernelspec": {
   "display_name": "Python 3 (ipykernel)",
   "language": "python",
   "name": "python3"
  },
  "language_info": {
   "codemirror_mode": {
    "name": "ipython",
    "version": 3
   },
   "file_extension": ".py",
   "mimetype": "text/x-python",
   "name": "python",
   "nbconvert_exporter": "python",
   "pygments_lexer": "ipython3",
   "version": "3.9.6"
  }
 },
 "nbformat": 4,
 "nbformat_minor": 5
}
